{
 "cells": [
  {
   "cell_type": "code",
   "execution_count": null,
   "metadata": {
    "collapsed": true
   },
   "outputs": [],
   "source": [
    "The process will be to check if there is a path between the start and the finish.  \n",
    "Using https://www.geeksforgeeks.org/find-if-there-is-a-path-between-two-vertices-in-a-given-graph/ as a guide.\n"
   ]
  },
  {
   "cell_type": "code",
   "execution_count": 52,
   "metadata": {},
   "outputs": [
    {
     "name": "stdout",
     "output_type": "stream",
     "text": [
      "3 10\n",
      "1 2 1 2 1 3 2 3 2 4 2 4 4 0 4 0 3 0 3 0\n",
      "0 0\n",
      "[[0, 0, 0, 0, 0], [0, 0, 0, 0, 0], [0, 0, 0, 0, 0], [0, 0, 0, 0, 0], [0, 0, 0, 0, 0]]\n",
      "1\n",
      "2\n",
      "1\n",
      "2\n",
      "1\n",
      "3\n",
      "2\n",
      "3\n",
      "2\n",
      "4\n",
      "2\n",
      "4\n",
      "4\n",
      "0\n",
      "4\n",
      "0\n",
      "3\n",
      "0\n",
      "3\n",
      "0\n",
      "[[0, 0, 0, 0, 0], [0, 0, 2, 1, 0], [0, 0, 0, 1, 2], [2, 0, 0, 0, 0], [2, 0, 0, 0, 0]]\n"
     ]
    }
   ],
   "source": [
    "junctions_and_legs = []\n",
    "paths = []\n",
    "\n",
    "new_jal = input()\n",
    "new_path = input()\n",
    "\n",
    "while (new_jal[0] != \"0\"):\n",
    "    junctions_and_legs.append(new_jal)\n",
    "    paths.append(new_path)\n",
    "    new_jal = input()\n",
    "    if (new_jal[0] != \"0\"):\n",
    "        new_path = input()\n",
    "\n",
    "#For each sledding location\n",
    "for x in range(0, len(junctions_and_legs)):\n",
    "\n",
    "    size = int(junctions_and_legs[x][0]) + 2\n",
    "    #Used this website to initialize empty array \n",
    "    #http://www.i-programmer.info/programming/python/3942-arrays-in-python.html\n",
    "    adj = [[0 for j in range(size)] for i in range(size)]\n",
    "    \n",
    "    #for i in range(0, int(junctions_and_legs[x][0])):\n",
    "    \n",
    "    print(adj)\n",
    "    \n",
    "    #print(\"junctions_and_legs: \", junctions_and_legs[1:])\n",
    "    for i in range(0, int(junctions_and_legs[x][1:])):\n",
    "        adj[int(paths[x][i*4])][int(paths[x][i*4 + 2])] = adj[int(paths[x][i*4])][int(paths[x][i*4 + 2])] + 1\n",
    "        \n",
    "        #print(paths[x][i*2])\n",
    "        #print(paths[x][i*2 + 1])\n",
    "            \n",
    "        print(paths[x][i*4])\n",
    "        print(int(paths[x][i*4 + 2]))\n",
    "        \n",
    "    print(adj)\n",
    "    \n",
    "\n",
    "\n",
    "#3 10\n",
    "#1 2 1 2 1 3 2 3 2 4 2 4 4 0 4 0 3 0 3 0\n",
    "#3 10\n",
    "#1 2 1 2 1 2 2 4 4 0 2 3 4 0 2 3 3 0 3 0\n",
    "#0 0    \n",
    " \n"
   ]
  },
  {
   "cell_type": "code",
   "execution_count": null,
   "metadata": {
    "collapsed": true
   },
   "outputs": [],
   "source": []
  },
  {
   "cell_type": "code",
   "execution_count": null,
   "metadata": {
    "collapsed": true
   },
   "outputs": [],
   "source": []
  },
  {
   "cell_type": "code",
   "execution_count": null,
   "metadata": {
    "collapsed": true
   },
   "outputs": [],
   "source": []
  },
  {
   "cell_type": "code",
   "execution_count": null,
   "metadata": {
    "collapsed": true
   },
   "outputs": [],
   "source": []
  },
  {
   "cell_type": "code",
   "execution_count": null,
   "metadata": {
    "collapsed": true
   },
   "outputs": [],
   "source": []
  },
  {
   "cell_type": "code",
   "execution_count": null,
   "metadata": {
    "collapsed": true
   },
   "outputs": [],
   "source": []
  },
  {
   "cell_type": "code",
   "execution_count": null,
   "metadata": {
    "collapsed": true
   },
   "outputs": [],
   "source": [
    "\n"
   ]
  },
  {
   "cell_type": "code",
   "execution_count": null,
   "metadata": {
    "collapsed": true
   },
   "outputs": [],
   "source": []
  },
  {
   "cell_type": "code",
   "execution_count": null,
   "metadata": {
    "collapsed": true
   },
   "outputs": [],
   "source": []
  },
  {
   "cell_type": "code",
   "execution_count": null,
   "metadata": {
    "collapsed": true
   },
   "outputs": [],
   "source": []
  },
  {
   "cell_type": "code",
   "execution_count": null,
   "metadata": {
    "collapsed": true
   },
   "outputs": [],
   "source": []
  },
  {
   "cell_type": "code",
   "execution_count": null,
   "metadata": {
    "collapsed": true
   },
   "outputs": [],
   "source": []
  },
  {
   "cell_type": "code",
   "execution_count": null,
   "metadata": {
    "collapsed": true
   },
   "outputs": [],
   "source": [
    "\n"
   ]
  }
 ],
 "metadata": {
  "kernelspec": {
   "display_name": "Python 3",
   "language": "python",
   "name": "python3"
  },
  "language_info": {
   "codemirror_mode": {
    "name": "ipython",
    "version": 3
   },
   "file_extension": ".py",
   "mimetype": "text/x-python",
   "name": "python",
   "nbconvert_exporter": "python",
   "pygments_lexer": "ipython3",
   "version": "3.6.3"
  }
 },
 "nbformat": 4,
 "nbformat_minor": 2
}
