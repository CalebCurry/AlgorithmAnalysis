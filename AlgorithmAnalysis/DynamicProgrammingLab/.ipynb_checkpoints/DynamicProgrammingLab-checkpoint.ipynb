{
 "cells": [
  {
   "cell_type": "markdown",
   "metadata": {
    "collapsed": true
   },
   "source": [
    "The process will be to check if there is a path between the start and the finish.  \n",
    "Using https://www.geeksforgeeks.org/find-if-there-is-a-path-between-two-vertices-in-a-given-graph/ as a guide.\n"
   ]
  },
  {
   "cell_type": "code",
   "execution_count": 55,
   "metadata": {},
   "outputs": [
    {
     "name": "stdout",
     "output_type": "stream",
     "text": [
      "first, we will take manual input:\n",
      "3 10\n",
      "1 2 1 2 1 3 2 3 2 4 2 4 4 0 4 0 3 0 3 0\n",
      "0 0\n",
      "Great! Now let's do a the unit test.\n",
      "unit test passed\n"
     ]
    }
   ],
   "source": [
    "junctions_and_legs = []\n",
    "paths = []\n",
    "\n",
    "print(\"first, we will take manual input:\")\n",
    "\n",
    "new_jal = input()\n",
    "new_path = input()\n",
    "\n",
    "while (new_jal[0] != \"0\"):\n",
    "    junctions_and_legs.append(new_jal)\n",
    "    paths.append(new_path)\n",
    "    new_jal = input()\n",
    "    if (new_jal[0] != \"0\"):\n",
    "        new_path = input()\n",
    "\n",
    "        \n",
    "\n",
    "#3 10\n",
    "#1 2 1 2 1 3 2 3 2 4 2 4 4 0 4 0 3 0 3 0\n",
    "#3 10\n",
    "#1 2 1 2 1 2 2 4 4 0 2 3 4 0 2 3 3 0 3 0\n",
    "#0 0    \n",
    "\n",
    "def calculate_runs(junctions_and_legs, paths):\n",
    "\n",
    "    #For each sledding location\n",
    "    #print(\"len junctions_and_legs\", len(junctions_and_legs))\n",
    "    for x in range(0, len(junctions_and_legs)):\n",
    "\n",
    "        size = int(junctions_and_legs[x][0]) + 2\n",
    "        #Used this website to initialize empty array \n",
    "        #http://www.i-programmer.info/programming/python/3942-arrays-in-python.html\n",
    "        adj = [[0 for j in range(size)] for i in range(size)]\n",
    "\n",
    "        #for i in range(0, int(junctions_and_legs[x][0])):\n",
    "\n",
    "        #print(adj)\n",
    "\n",
    "        #print(\"junctions_and_legs: \", junctions_and_legs[1:])\n",
    "        for i in range(0, int(junctions_and_legs[x][1:])):\n",
    "            adj[int(paths[x][i*4])][int(paths[x][i*4 + 2])] = adj[int(paths[x][i*4])][int(paths[x][i*4 + 2])] + 1\n",
    "\n",
    "            #print(paths[x][i*2])\n",
    "            #print(paths[x][i*2 + 1])\n",
    "\n",
    "            #print(paths[x][i*4])\n",
    "            #print(int(paths[x][i*4 + 2]))\n",
    "\n",
    "        #print(adj)\n",
    "\n",
    "        #Here is the process non programatically (doesn't scale to n)\n",
    "        #adj[3][0] = adj[3][0] + (adj[3][4]*adj[4][0])\n",
    "        #adj[2][0] = adj[2][0] + (adj[2][3]*adj[3][0] + adj[2][4]*adj[4][0])\n",
    "        #adj[1][0] = adj[1][0] + (adj[1][2]*adj[2][0] + adj[1][3]*adj[3][0] + adj[1][4]*adj[4][0])\n",
    "\n",
    "        #disgusting for loops to grab each item needed.  \n",
    "        #generally we process the overal array from row N-1 to row 1,\n",
    "        #and insude each row we're processing columns from column r+1 to column N.\n",
    "        for r in range (len(adj) - 1, 0, -1):\n",
    "\n",
    "            #print(\"outer r =\", r)\n",
    "            total_to_add = 0;\n",
    "\n",
    "            for c in range (r+1, len(adj)):\n",
    "                #print (\"total_to_add at begining inner\" , total_to_add)\n",
    "                total_to_add = total_to_add + adj[r][c]*adj[c][0]\n",
    "\n",
    "                #print(\"inner adj indexes\", r, c, \":\", adj[r][c])\n",
    "                #print(\"adj\",c,\"0\")\n",
    "                #print(\"total_to_add\", total_to_add)\n",
    "            adj[r][0] = adj[r][0] + total_to_add\n",
    "\n",
    "        #print(\"Number of paths to bottom:\", adj[1][0])\n",
    "        #print(adj)\n",
    "        return adj[1][0]\n",
    "\n",
    "\n",
    "calculate_runs(junctions_and_legs, paths)\n",
    "\n",
    "#UNIT TEST!\n",
    "\n",
    "print(\"Great! Now let's do a the unit test.\")\n",
    "junctions_and_legs = [\"3 10\"]\n",
    "paths = [\"1 2 1 2 1 3 2 3 2 4 2 4 4 0 4 0 3 0 3 0\"]\n",
    "\n",
    "result = calculate_runs(junctions_and_legs, paths)\n",
    "if (result == 14):\n",
    "    print(\"unit test passed\")\n",
    "else:\n",
    "    print(\"result should have been 14 but was actually\", result)"
   ]
  },
  {
   "cell_type": "code",
   "execution_count": null,
   "metadata": {
    "collapsed": true
   },
   "outputs": [],
   "source": []
  },
  {
   "cell_type": "code",
   "execution_count": null,
   "metadata": {
    "collapsed": true
   },
   "outputs": [],
   "source": []
  },
  {
   "cell_type": "code",
   "execution_count": null,
   "metadata": {
    "collapsed": true
   },
   "outputs": [],
   "source": []
  },
  {
   "cell_type": "code",
   "execution_count": null,
   "metadata": {
    "collapsed": true
   },
   "outputs": [],
   "source": []
  },
  {
   "cell_type": "code",
   "execution_count": null,
   "metadata": {
    "collapsed": true
   },
   "outputs": [],
   "source": []
  },
  {
   "cell_type": "code",
   "execution_count": null,
   "metadata": {
    "collapsed": true
   },
   "outputs": [],
   "source": []
  },
  {
   "cell_type": "code",
   "execution_count": null,
   "metadata": {
    "collapsed": true
   },
   "outputs": [],
   "source": []
  },
  {
   "cell_type": "code",
   "execution_count": null,
   "metadata": {
    "collapsed": true
   },
   "outputs": [],
   "source": []
  },
  {
   "cell_type": "code",
   "execution_count": null,
   "metadata": {
    "collapsed": true
   },
   "outputs": [],
   "source": [
    "\n"
   ]
  },
  {
   "cell_type": "code",
   "execution_count": null,
   "metadata": {
    "collapsed": true
   },
   "outputs": [],
   "source": []
  },
  {
   "cell_type": "code",
   "execution_count": null,
   "metadata": {
    "collapsed": true
   },
   "outputs": [],
   "source": []
  },
  {
   "cell_type": "code",
   "execution_count": null,
   "metadata": {
    "collapsed": true
   },
   "outputs": [],
   "source": []
  },
  {
   "cell_type": "code",
   "execution_count": null,
   "metadata": {
    "collapsed": true
   },
   "outputs": [],
   "source": []
  },
  {
   "cell_type": "code",
   "execution_count": null,
   "metadata": {
    "collapsed": true
   },
   "outputs": [],
   "source": []
  },
  {
   "cell_type": "code",
   "execution_count": null,
   "metadata": {
    "collapsed": true
   },
   "outputs": [],
   "source": [
    "\n"
   ]
  }
 ],
 "metadata": {
  "kernelspec": {
   "display_name": "Python 3",
   "language": "python",
   "name": "python3"
  },
  "language_info": {
   "codemirror_mode": {
    "name": "ipython",
    "version": 3
   },
   "file_extension": ".py",
   "mimetype": "text/x-python",
   "name": "python",
   "nbconvert_exporter": "python",
   "pygments_lexer": "ipython3",
   "version": "3.6.3"
  }
 },
 "nbformat": 4,
 "nbformat_minor": 2
}
