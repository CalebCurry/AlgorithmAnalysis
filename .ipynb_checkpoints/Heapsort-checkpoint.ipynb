{
 "cells": [
  {
   "cell_type": "code",
   "execution_count": null,
   "metadata": {
    "collapsed": true
   },
   "outputs": [],
   "source": [
    "There are two categories of binary trees that are mentioned in the algorithm book:  \n",
    "    complete binary tree\n",
    "    essentially complete binary tree\n",
    "    \n",
    "The essentially complete binary tree is not required to have all nodes at depth d, but will accept nodes at d - 1.\n",
    "All nodes at d - 1 are to the far left.\n",
    "\n",
    "A heap is atleast an essentially complete binary tree where each parent is larger than its 2 children."
   ]
  },
  {
   "cell_type": "code",
   "execution_count": 247,
   "metadata": {},
   "outputs": [
    {
     "name": "stdout",
     "output_type": "stream",
     "text": [
      "Give a list of numbers:\n",
      "4\n",
      "7\n",
      "9\n",
      "1\n",
      "2\n",
      "3\n",
      "5\n",
      "5\n",
      "8\n",
      "6\n",
      "q\n",
      "[4, 7, 9, 1, 2, 3, 5, 5, 8, 6]\n",
      "Final array: [9]\n",
      "Final array: [9, 8]\n",
      "Final array: [9, 8, 7]\n",
      "Final array: [9, 8, 7, 6]\n",
      "Final array: [9, 8, 7, 6, 5]\n",
      "Final array: [9, 8, 7, 6, 5, 5]\n",
      "Final array: [9, 8, 7, 6, 5, 5, 4]\n",
      "Final array: [9, 8, 7, 6, 5, 5, 4, 3]\n",
      "Final array: [9, 8, 7, 6, 5, 5, 4, 3, 2]\n",
      "Final array: [9, 8, 7, 6, 5, 5, 4, 3, 2, 1]\n",
      "program done\n"
     ]
    }
   ],
   "source": [
    "def sift(heap, parent): \n",
    "    while(2 * parent + 1 < len(heap)): #Check to see if the node has atleast 1 child\n",
    "        #Had an issue where I had <= and I was on index 3 of length 7.  Specifically a complete binary tree?\n",
    "      \n",
    "        if(2 * parent + 2 < len(heap) and heap[parent * 2 + 1] < heap[parent * 2 + 2]): \n",
    "            #Check to see if the node has 2 children and see if left is greater than right\n",
    "            #We will not hit this point if the node has 0 children because it would not pass while condition\n",
    "            larger_child_index = parent * 2 + 2\n",
    "            #print('Right node bigger, Larger child index:', larger_child_index)\n",
    "        else: #right node is bigger than left or there is only left child so defaults to left\n",
    "            larger_child_index = parent * 2 + 1\n",
    "            #print('Left node bigger, Larger child index:', larger_child_index)\n",
    "            \n",
    "            \n",
    "        #At this point we know which child is bigger, but we now need to see if the bigger child\n",
    "        #Is even bigger than the parent node.\n",
    "        #IF it's not, we're done.\n",
    "        if(heap[parent] < heap[larger_child_index]):\n",
    "            temp = heap[parent]\n",
    "            heap[parent] = heap[larger_child_index]\n",
    "            heap[larger_child_index] = temp\n",
    "            \n",
    "            parent = larger_child_index \n",
    "        else:\n",
    "            #This point will only be hit if the sifting stops before the node reaches the bottom \n",
    "            #because it is bigger than a child. \n",
    "            #In the situation that this point does not get hit, the program will stop because\n",
    "            #the while loop will not pass as true.\n",
    "            #print(\"sift complete:\", heap)\n",
    "            return\n",
    "     \n",
    "    #print(\"sift complete:\", heap)\n",
    "\n",
    "def getroot(heap):\n",
    "    root = heap[0]\n",
    "    \n",
    "    heap[0] = heap[len(heap)-1]\n",
    "    heap.pop()\n",
    "    #This was causing an issue so added if.  The call to sift was referencing heap[0] which\n",
    "    #did not exists because it can be popped off it previous statement ^\n",
    "    if(len(heap) > 1):\n",
    "        sift(heap, 0)\n",
    "    return root\n",
    "    \n",
    "def removekeys(heap, final_array):\n",
    "    #for (int i = 0; i < len(heap) i++)\n",
    "    for i in range(len(heap) -1, -1, -1):\n",
    "        #print(\"i =\", i)\n",
    "        final_array.append(getroot(heap))\n",
    "        print(\"Final array:\", final_array)\n",
    "    \n",
    "def makeheap(heap):\n",
    "    for i in range (   int(   (len(heap)-1)/2   ), -1, -1    ):\n",
    "        sift(heap, i)\n",
    "\n",
    "print(\"Give a list of numbers:\")\n",
    "\n",
    "def heapsort(heap, final_array):\n",
    "    makeheap(heap)\n",
    "    removekeys(heap, final_array)\n",
    "    \n",
    "    \n",
    "heap = []\n",
    "\n",
    "while (True):\n",
    "    data = input()\n",
    "    if(data == 'q'):\n",
    "        break\n",
    "    else:\n",
    "        heap.append(int(data))\n",
    "\n",
    "#Can also harcode:\n",
    "#heap = [4,7,9,1,2,3,5,5,8,6]\n",
    "print (heap)\n",
    "\n",
    "makeheap(heap)    \n",
    "final_array = []   \n",
    "removekeys(heap, final_array)\n",
    "print(\"program done\")"
   ]
  },
  {
   "cell_type": "code",
   "execution_count": 251,
   "metadata": {},
   "outputs": [
    {
     "name": "stdout",
     "output_type": "stream",
     "text": [
      "pass\n"
     ]
    }
   ],
   "source": [
    "#Test for sift\n",
    "\n",
    "heap = [11,25,20,18,12,19,17,16,14]\n",
    "\n",
    "sift(heap, 0)\n",
    "\n",
    "if(heap == [25, 18, 20, 16, 12, 19, 17, 11, 14]):\n",
    "    print (\"pass\")\n",
    "else:\n",
    "    print (\"fail\")"
   ]
  },
  {
   "cell_type": "code",
   "execution_count": 254,
   "metadata": {},
   "outputs": [
    {
     "name": "stdout",
     "output_type": "stream",
     "text": [
      "pass\n"
     ]
    }
   ],
   "source": [
    "#Test for getroot\n",
    "#Should pop off left number and then put the rest in a heap\n",
    "\n",
    "heap = [25, 18, 20, 16, 12, 19, 17, 11, 14]\n",
    "root = getroot(heap)\n",
    "\n",
    "if (root == 25 and heap == [20, 18, 19, 16, 12, 14, 17, 11]):\n",
    "    print(\"pass\")\n",
    "else:\n",
    "    print(\"fail\")\n",
    "    print(root)\n",
    "    print(heap)"
   ]
  },
  {
   "cell_type": "code",
   "execution_count": 267,
   "metadata": {},
   "outputs": [
    {
     "name": "stdout",
     "output_type": "stream",
     "text": [
      "Final array: [25]\n",
      "Final array: [25, 20]\n",
      "Final array: [25, 20, 19]\n",
      "Final array: [25, 20, 19, 18]\n",
      "Final array: [25, 20, 19, 18, 17]\n",
      "Final array: [25, 20, 19, 18, 17, 16]\n",
      "Final array: [25, 20, 19, 18, 17, 16, 14]\n",
      "Final array: [25, 20, 19, 18, 17, 16, 14, 12]\n",
      "Final array: [25, 20, 19, 18, 17, 16, 14, 12, 11]\n",
      "pass\n"
     ]
    }
   ],
   "source": [
    "#Test for removekeys\n",
    "\n",
    "heap = [25, 18, 20, 16, 12, 19, 17, 11, 14]\n",
    "final_array = []\n",
    "\n",
    "removekeys(heap, final_array)\n",
    "\n",
    "if(heap == [] and final_array == [25, 20, 19, 18, 17, 16, 14, 12, 11]):\n",
    "    print(\"pass\")\n",
    "else:\n",
    "    print(\"fail\")\n",
    "    print(heap)"
   ]
  },
  {
   "cell_type": "code",
   "execution_count": 271,
   "metadata": {},
   "outputs": [
    {
     "name": "stdout",
     "output_type": "stream",
     "text": [
      "pass\n"
     ]
    }
   ],
   "source": [
    "#Test for makeheap\n",
    "#There are multiple arrangements for a heap, so this is limited\n",
    "#for example, the variable below could be changed into to a heap as:\n",
    "#[30, 25, 20, 18, 12, 19, 17, 16, 14, 11]\n",
    "heap = [30, 25, 18, 20, 16, 12, 19, 17, 11, 14]\n",
    "\n",
    "makeheap(heap)\n",
    "if(heap == [30, 25, 19, 20, 16, 12, 18, 17, 11, 14]):\n",
    "    print(\"pass\")\n",
    "else:\n",
    "    print(\"fail\")"
   ]
  }
 ],
 "metadata": {
  "kernelspec": {
   "display_name": "Python 3",
   "language": "python",
   "name": "python3"
  }
 },
 "nbformat": 4,
 "nbformat_minor": 2
}
